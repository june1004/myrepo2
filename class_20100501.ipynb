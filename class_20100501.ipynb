{
 "cells": [
  {
   "cell_type": "code",
   "execution_count": 1,
   "metadata": {},
   "outputs": [],
   "source": [
    "import sqlite3"
   ]
  },
  {
   "cell_type": "code",
   "execution_count": 2,
   "metadata": {},
   "outputs": [
    {
     "data": {
      "text/plain": [
       "<sqlite3.Connection at 0x7fad146c33f0>"
      ]
     },
     "execution_count": 2,
     "metadata": {},
     "output_type": "execute_result"
    }
   ],
   "source": [
    "conn = sqlite3.connect('student.db')\n",
    "conn"
   ]
  },
  {
   "cell_type": "code",
   "execution_count": 27,
   "metadata": {},
   "outputs": [
    {
     "ename": "OperationalError",
     "evalue": "database table is locked",
     "output_type": "error",
     "traceback": [
      "\u001b[0;31m---------------------------------------------------------------------------\u001b[0m",
      "\u001b[0;31mOperationalError\u001b[0m                          Traceback (most recent call last)",
      "\u001b[0;32m<ipython-input-27-3dfba13a4fb0>\u001b[0m in \u001b[0;36m<module>\u001b[0;34m\u001b[0m\n\u001b[1;32m     10\u001b[0m \u001b[0;34m\u001b[0m\u001b[0m\n\u001b[1;32m     11\u001b[0m \u001b[0mc\u001b[0m \u001b[0;34m=\u001b[0m \u001b[0mconn\u001b[0m\u001b[0;34m.\u001b[0m\u001b[0mcursor\u001b[0m\u001b[0;34m(\u001b[0m\u001b[0;34m)\u001b[0m\u001b[0;34m\u001b[0m\u001b[0;34m\u001b[0m\u001b[0m\n\u001b[0;32m---> 12\u001b[0;31m \u001b[0mc\u001b[0m\u001b[0;34m.\u001b[0m\u001b[0mexecute\u001b[0m\u001b[0;34m(\u001b[0m\u001b[0;34m\"DROP TABLE IF EXISTS student\"\u001b[0m\u001b[0;34m)\u001b[0m\u001b[0;34m\u001b[0m\u001b[0;34m\u001b[0m\u001b[0m\n\u001b[0m\u001b[1;32m     13\u001b[0m \u001b[0mc\u001b[0m\u001b[0;34m.\u001b[0m\u001b[0mexecute\u001b[0m\u001b[0;34m(\u001b[0m\u001b[0msql\u001b[0m\u001b[0;34m)\u001b[0m\u001b[0;34m\u001b[0m\u001b[0;34m\u001b[0m\u001b[0m\n\u001b[1;32m     14\u001b[0m \u001b[0mc\u001b[0m\u001b[0;34m.\u001b[0m\u001b[0mclose\u001b[0m\u001b[0;34m(\u001b[0m\u001b[0;34m)\u001b[0m\u001b[0;34m\u001b[0m\u001b[0;34m\u001b[0m\u001b[0m\n",
      "\u001b[0;31mOperationalError\u001b[0m: database table is locked"
     ]
    }
   ],
   "source": [
    "sql = \"\"\"\n",
    " CREATE TABLE student\n",
    " ( \n",
    " name text,\n",
    " no integer,\n",
    " addr text,\n",
    " gender text\n",
    " )\n",
    "\"\"\"\n",
    "\n",
    "c = conn.cursor()\n",
    "c.execute(\"DROP TABLE IF EXISTS student\")\n",
    "c.execute(sql)\n",
    "c.close()"
   ]
  },
  {
   "cell_type": "code",
   "execution_count": 4,
   "metadata": {},
   "outputs": [],
   "source": [
    "# 여러개의 데이터를 넣고 조회해 보기"
   ]
  },
  {
   "cell_type": "code",
   "execution_count": 34,
   "metadata": {},
   "outputs": [],
   "source": [
    "sql = \"\"\"\n",
    "INSERT INTO student VALUES\n",
    " (?, ?, ?, ?)\n",
    " \"\"\"\n",
    "c = conn.cursor()\n",
    "c.execute(sql, (\"학생2\", 2, \"안양\", \"female\"))\n",
    "\n",
    "## 여러개 데이터 넣기\n",
    "\n",
    "data = [\n",
    "    (\"학생3\", 3, \"춘천\", \"female\"),\n",
    "    (\"학생4\", 4, \"대구\", \"male\"),\n",
    "    (\"학생5\", 5, \"강릉\", \"male\")\n",
    "]\n",
    "\n",
    "c = conn.cursor()      # ← sql 입력시 꼭 들어가야 함...\n",
    "c.executemany(sql, data)\n",
    "c.close()\n",
    "conn.commit()"
   ]
  },
  {
   "cell_type": "code",
   "execution_count": 36,
   "metadata": {},
   "outputs": [
    {
     "name": "stdout",
     "output_type": "stream",
     "text": [
      "('학생2', 2, '안양', 'female')\n"
     ]
    }
   ],
   "source": [
    "sql = \"SELECT * FROM student\"    # SELECT * FROM 테이블명\n",
    "c = conn.cursor()\n",
    "c.execute(sql)\n",
    "\n",
    "# 하나의 데이터 확인\n",
    "print( c.fetchone())"
   ]
  },
  {
   "cell_type": "code",
   "execution_count": 37,
   "metadata": {},
   "outputs": [
    {
     "name": "stdout",
     "output_type": "stream",
     "text": [
      "('학생2', 2, '안양', 'female')\n",
      "('학생2', 2, '안양', 'female')\n",
      "('학생3', 3, '춘천', 'female')\n",
      "('학생4', 4, '대구', 'female')\n",
      "('학생5', 5, '강릉', 'female')\n",
      "('학생2', 2, '안양', 'female')\n",
      "('학생3', 3, '춘천', 'female')\n",
      "('학생4', 4, '대구', 'female')\n",
      "('학생5', 5, '강릉', 'female')\n",
      "('학생2', 2, '안양', 'female')\n"
     ]
    }
   ],
   "source": [
    "sql = \"select * from student\"\n",
    "c = conn.cursor()\n",
    "c.execute(sql)\n",
    "\n",
    "for s in c.fetchmany(10):   # 다중의 데이터 확인\n",
    "    print(s)"
   ]
  },
  {
   "cell_type": "code",
   "execution_count": 38,
   "metadata": {},
   "outputs": [
    {
     "name": "stdout",
     "output_type": "stream",
     "text": [
      "('학생2', 2, '안양', 'female')\n",
      "('학생2', 2, '안양', 'female')\n",
      "('학생3', 3, '춘천', 'female')\n",
      "('학생4', 4, '대구', 'female')\n",
      "('학생5', 5, '강릉', 'female')\n",
      "('학생2', 2, '안양', 'female')\n",
      "('학생3', 3, '춘천', 'female')\n",
      "('학생4', 4, '대구', 'female')\n",
      "('학생5', 5, '강릉', 'female')\n",
      "('학생2', 2, '안양', 'female')\n",
      "('학생3', 3, '춘천', 'female')\n",
      "('학생4', 4, '대구', 'female')\n",
      "('학생5', 5, '강릉', 'female')\n",
      "('학생2', 2, '안양', 'female')\n",
      "('학생3', 3, '춘천', 'female')\n",
      "('학생4', 4, '대구', 'male')\n",
      "('학생5', 5, '강릉', 'male')\n",
      "('학생2', 2, '안양', 'female')\n",
      "('학생3', 3, '춘천', 'female')\n",
      "('학생4', 4, '대구', 'male')\n",
      "('학생5', 5, '강릉', 'male')\n",
      "('학생2', 2, '안양', 'female')\n",
      "('학생3', 3, '춘천', 'female')\n",
      "('학생4', 4, '대구', 'male')\n",
      "('학생5', 5, '강릉', 'male')\n"
     ]
    }
   ],
   "source": [
    "sql = 'select * from student'\n",
    "c = conn.cursor()\n",
    "c.execute(sql)\n",
    "\n",
    "# 전체 데이터 확인\n",
    "for s in c.fetchall():\n",
    "    print(s)"
   ]
  },
  {
   "cell_type": "code",
   "execution_count": null,
   "metadata": {},
   "outputs": [],
   "source": []
  }
 ],
 "metadata": {
  "kernelspec": {
   "display_name": "Python 3",
   "language": "python",
   "name": "python3"
  },
  "language_info": {
   "codemirror_mode": {
    "name": "ipython",
    "version": 3
   },
   "file_extension": ".py",
   "mimetype": "text/x-python",
   "name": "python",
   "nbconvert_exporter": "python",
   "pygments_lexer": "ipython3",
   "version": "3.8.3"
  }
 },
 "nbformat": 4,
 "nbformat_minor": 4
}
