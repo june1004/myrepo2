{
 "cells": [
  {
   "cell_type": "code",
   "execution_count": 1,
   "metadata": {},
   "outputs": [],
   "source": [
    "import pandas as pd"
   ]
  },
  {
   "cell_type": "code",
   "execution_count": 2,
   "metadata": {},
   "outputs": [],
   "source": [
    "from pandas import Series, DataFrame"
   ]
  },
  {
   "cell_type": "code",
   "execution_count": 3,
   "metadata": {},
   "outputs": [
    {
     "data": {
      "text/plain": [
       "0    1000\n",
       "1    2000\n",
       "2    3000\n",
       "3    4000\n",
       "4    5000\n",
       "dtype: int64"
      ]
     },
     "execution_count": 3,
     "metadata": {},
     "output_type": "execute_result"
    }
   ],
   "source": [
    "score = Series( [1000, 2000, 3000, 4000,5000])\n",
    "score"
   ]
  },
  {
   "cell_type": "code",
   "execution_count": 4,
   "metadata": {},
   "outputs": [],
   "source": [
    "import pandas as pd"
   ]
  },
  {
   "cell_type": "code",
   "execution_count": 5,
   "metadata": {},
   "outputs": [
    {
     "name": "stdout",
     "output_type": "stream",
     "text": [
      "pandas version :  1.0.5\n"
     ]
    }
   ],
   "source": [
    "print(\"pandas version : \", pd.__version__)"
   ]
  },
  {
   "cell_type": "code",
   "execution_count": 13,
   "metadata": {},
   "outputs": [
    {
     "data": {
      "text/plain": [
       "0    1000\n",
       "1    2000\n",
       "2    3000\n",
       "3    2000\n",
       "4    3000\n",
       "dtype: int64"
      ]
     },
     "execution_count": 13,
     "metadata": {},
     "output_type": "execute_result"
    }
   ],
   "source": [
    "step = Series( [1000, 2000, 3000, 2000, 3000] )\n",
    "step"
   ]
  },
  {
   "cell_type": "code",
   "execution_count": 14,
   "metadata": {},
   "outputs": [
    {
     "data": {
      "text/plain": [
       "-4일    1000\n",
       "-3일    2000\n",
       "그제     3000\n",
       "어제     2000\n",
       "오늘     3000\n",
       "dtype: int64"
      ]
     },
     "execution_count": 14,
     "metadata": {},
     "output_type": "execute_result"
    }
   ],
   "source": [
    "step = Series( [1000, 2000, 3000,2000, 3000],\n",
    "    index = [\"-4일\", \"-3일\", \"그제\", \"어제\", \"오늘\"] )\n",
    "step"
   ]
  },
  {
   "cell_type": "code",
   "execution_count": 17,
   "metadata": {},
   "outputs": [
    {
     "name": "stdout",
     "output_type": "stream",
     "text": [
      "0    1000\n",
      "1    2000\n",
      "2    3000\n",
      "3    2000\n",
      "4    3000\n",
      "dtype: int64\n",
      "자료형 확인 : <class 'pandas.core.series.Series'>\n"
     ]
    }
   ],
   "source": [
    "step = Series( [1000, 2000, 3000, 2000, 3000] )\n",
    "print(step)\n",
    "print(\"자료형 확인 : {}\" .format( type(step)))"
   ]
  },
  {
   "cell_type": "code",
   "execution_count": 18,
   "metadata": {},
   "outputs": [
    {
     "name": "stdout",
     "output_type": "stream",
     "text": [
      "RangeIndex(start=0, stop=5, step=1)\n"
     ]
    }
   ],
   "source": [
    "print(step.index)"
   ]
  },
  {
   "cell_type": "code",
   "execution_count": 19,
   "metadata": {},
   "outputs": [
    {
     "name": "stdout",
     "output_type": "stream",
     "text": [
      "[1000 2000 3000 2000 3000]\n"
     ]
    }
   ],
   "source": [
    "print(step.values)"
   ]
  },
  {
   "cell_type": "code",
   "execution_count": 20,
   "metadata": {},
   "outputs": [
    {
     "name": "stdout",
     "output_type": "stream",
     "text": [
      "int64\n"
     ]
    }
   ],
   "source": [
    "print(step.dtype)"
   ]
  },
  {
   "cell_type": "code",
   "execution_count": 27,
   "metadata": {},
   "outputs": [
    {
     "data": {
      "text/plain": [
       "2020/05/03       NaN\n",
       "2020/05/04       NaN\n",
       "2020/05/05    4000.0\n",
       "2020/05/06    5000.0\n",
       "2020/05/07    5000.0\n",
       "2020/05/08       NaN\n",
       "2020/05/09       NaN\n",
       "dtype: float64"
      ]
     },
     "execution_count": 27,
     "metadata": {},
     "output_type": "execute_result"
    }
   ],
   "source": [
    "step1 = Series( [1000, 2000, 3000, 2000, 3000],\n",
    "    index = [\"2020/05/03\", \"2020/05/04\", \"2020/05/05\", \"2020/05/06\", \"2020/05/07\"])\n",
    "\n",
    "step2 = Series ( [1000,3000, 2000, 3000, 2000],\n",
    "     index = [\"2020/05/05\", \"2020/05/06\",\"2020/05/07\", \"2020/05/08\", \"2020/05/09\"])\n",
    "\n",
    "step1 + step2"
   ]
  },
  {
   "cell_type": "code",
   "execution_count": 29,
   "metadata": {},
   "outputs": [
    {
     "data": {
      "text/html": [
       "<div>\n",
       "<style scoped>\n",
       "    .dataframe tbody tr th:only-of-type {\n",
       "        vertical-align: middle;\n",
       "    }\n",
       "\n",
       "    .dataframe tbody tr th {\n",
       "        vertical-align: top;\n",
       "    }\n",
       "\n",
       "    .dataframe thead th {\n",
       "        text-align: right;\n",
       "    }\n",
       "</style>\n",
       "<table border=\"1\" class=\"dataframe\">\n",
       "  <thead>\n",
       "    <tr style=\"text-align: right;\">\n",
       "      <th></th>\n",
       "      <th>col1</th>\n",
       "      <th>col2</th>\n",
       "      <th>col3</th>\n",
       "    </tr>\n",
       "  </thead>\n",
       "  <tbody>\n",
       "    <tr>\n",
       "      <th>0</th>\n",
       "      <td>1</td>\n",
       "      <td>10</td>\n",
       "      <td>A</td>\n",
       "    </tr>\n",
       "    <tr>\n",
       "      <th>1</th>\n",
       "      <td>2</td>\n",
       "      <td>20</td>\n",
       "      <td>B</td>\n",
       "    </tr>\n",
       "    <tr>\n",
       "      <th>2</th>\n",
       "      <td>3</td>\n",
       "      <td>30</td>\n",
       "      <td>C</td>\n",
       "    </tr>\n",
       "    <tr>\n",
       "      <th>3</th>\n",
       "      <td>4</td>\n",
       "      <td>40</td>\n",
       "      <td>D</td>\n",
       "    </tr>\n",
       "  </tbody>\n",
       "</table>\n",
       "</div>"
      ],
      "text/plain": [
       "   col1  col2 col3\n",
       "0     1    10    A\n",
       "1     2    20    B\n",
       "2     3    30    C\n",
       "3     4    40    D"
      ]
     },
     "execution_count": 29,
     "metadata": {},
     "output_type": "execute_result"
    }
   ],
   "source": [
    "from pandas import DataFrame\n",
    "\n",
    "dat = {'col1':[1,2,3,4],\n",
    "       'col2':[10,20,30,40],\n",
    "       'col3':['A','B','C','D']\n",
    "      }\n",
    "df = DataFrame(dat)\n",
    "df"
   ]
  },
  {
   "cell_type": "code",
   "execution_count": 33,
   "metadata": {},
   "outputs": [
    {
     "data": {
      "text/html": [
       "<div>\n",
       "<style scoped>\n",
       "    .dataframe tbody tr th:only-of-type {\n",
       "        vertical-align: middle;\n",
       "    }\n",
       "\n",
       "    .dataframe tbody tr th {\n",
       "        vertical-align: top;\n",
       "    }\n",
       "\n",
       "    .dataframe thead th {\n",
       "        text-align: right;\n",
       "    }\n",
       "</style>\n",
       "<table border=\"1\" class=\"dataframe\">\n",
       "  <thead>\n",
       "    <tr style=\"text-align: right;\">\n",
       "      <th></th>\n",
       "      <th>team</th>\n",
       "      <th>score_d1</th>\n",
       "      <th>score_d2</th>\n",
       "      <th>score_d3</th>\n",
       "      <th>score_d4</th>\n",
       "      <th>score_d5</th>\n",
       "    </tr>\n",
       "  </thead>\n",
       "  <tbody>\n",
       "    <tr>\n",
       "      <th>0</th>\n",
       "      <td>A팀</td>\n",
       "      <td>90</td>\n",
       "      <td>70</td>\n",
       "      <td>80</td>\n",
       "      <td>95</td>\n",
       "      <td>99</td>\n",
       "    </tr>\n",
       "    <tr>\n",
       "      <th>1</th>\n",
       "      <td>B팀</td>\n",
       "      <td>95</td>\n",
       "      <td>92</td>\n",
       "      <td>90</td>\n",
       "      <td>89</td>\n",
       "      <td>99</td>\n",
       "    </tr>\n",
       "    <tr>\n",
       "      <th>2</th>\n",
       "      <td>C팀</td>\n",
       "      <td>80</td>\n",
       "      <td>90</td>\n",
       "      <td>87</td>\n",
       "      <td>85</td>\n",
       "      <td>88</td>\n",
       "    </tr>\n",
       "    <tr>\n",
       "      <th>3</th>\n",
       "      <td>D팀</td>\n",
       "      <td>97</td>\n",
       "      <td>89</td>\n",
       "      <td>79</td>\n",
       "      <td>87</td>\n",
       "      <td>94</td>\n",
       "    </tr>\n",
       "  </tbody>\n",
       "</table>\n",
       "</div>"
      ],
      "text/plain": [
       "  team  score_d1  score_d2  score_d3  score_d4  score_d5\n",
       "0   A팀        90        70        80        95        99\n",
       "1   B팀        95        92        90        89        99\n",
       "2   C팀        80        90        87        85        88\n",
       "3   D팀        97        89        79        87        94"
      ]
     },
     "execution_count": 33,
     "metadata": {},
     "output_type": "execute_result"
    }
   ],
   "source": [
    "from pandas import DataFrame\n",
    "\n",
    "dat = {'team':[\"A팀\",\"B팀\",\"C팀\",\"D팀\"],\n",
    "       'score_d1':[90, 95, 80, 97],\n",
    "       'score_d2':[70, 92, 90, 89],\n",
    "       'score_d3':[80, 90, 87, 79],\n",
    "       'score_d4':[95, 89, 85, 87],\n",
    "       'score_d5':[99, 99, 88, 94],\n",
    "      }\n",
    "df = DataFrame(dat)\n",
    "df"
   ]
  },
  {
   "cell_type": "code",
   "execution_count": 35,
   "metadata": {},
   "outputs": [
    {
     "data": {
      "text/html": [
       "<div>\n",
       "<style scoped>\n",
       "    .dataframe tbody tr th:only-of-type {\n",
       "        vertical-align: middle;\n",
       "    }\n",
       "\n",
       "    .dataframe tbody tr th {\n",
       "        vertical-align: top;\n",
       "    }\n",
       "\n",
       "    .dataframe thead th {\n",
       "        text-align: right;\n",
       "    }\n",
       "</style>\n",
       "<table border=\"1\" class=\"dataframe\">\n",
       "  <thead>\n",
       "    <tr style=\"text-align: right;\">\n",
       "      <th></th>\n",
       "      <th>team</th>\n",
       "      <th>score_d1</th>\n",
       "      <th>score_d2</th>\n",
       "      <th>score_d3</th>\n",
       "      <th>score_d4</th>\n",
       "      <th>score_d5</th>\n",
       "    </tr>\n",
       "  </thead>\n",
       "  <tbody>\n",
       "    <tr>\n",
       "      <th>2020-10-05</th>\n",
       "      <td>A팀</td>\n",
       "      <td>90</td>\n",
       "      <td>70</td>\n",
       "      <td>80</td>\n",
       "      <td>95</td>\n",
       "      <td>99</td>\n",
       "    </tr>\n",
       "    <tr>\n",
       "      <th>2020-10-06</th>\n",
       "      <td>B팀</td>\n",
       "      <td>95</td>\n",
       "      <td>92</td>\n",
       "      <td>90</td>\n",
       "      <td>89</td>\n",
       "      <td>99</td>\n",
       "    </tr>\n",
       "    <tr>\n",
       "      <th>2020-10-07</th>\n",
       "      <td>C팀</td>\n",
       "      <td>80</td>\n",
       "      <td>90</td>\n",
       "      <td>87</td>\n",
       "      <td>85</td>\n",
       "      <td>88</td>\n",
       "    </tr>\n",
       "    <tr>\n",
       "      <th>2020-10-08</th>\n",
       "      <td>D팀</td>\n",
       "      <td>97</td>\n",
       "      <td>89</td>\n",
       "      <td>79</td>\n",
       "      <td>87</td>\n",
       "      <td>94</td>\n",
       "    </tr>\n",
       "  </tbody>\n",
       "</table>\n",
       "</div>"
      ],
      "text/plain": [
       "           team  score_d1  score_d2  score_d3  score_d4  score_d5\n",
       "2020-10-05   A팀        90        70        80        95        99\n",
       "2020-10-06   B팀        95        92        90        89        99\n",
       "2020-10-07   C팀        80        90        87        85        88\n",
       "2020-10-08   D팀        97        89        79        87        94"
      ]
     },
     "execution_count": 35,
     "metadata": {},
     "output_type": "execute_result"
    }
   ],
   "source": [
    "from pandas import DataFrame\n",
    "\n",
    "dat = {'team':[\"A팀\",\"B팀\",\"C팀\",\"D팀\"],\n",
    "       'score_d1':[90, 95, 80, 97],\n",
    "       'score_d2':[70, 92, 90, 89],\n",
    "       'score_d3':[80, 90, 87, 79],\n",
    "       'score_d4':[95, 89, 85, 87],\n",
    "       'score_d5':[99, 99, 88, 94],\n",
    "      }\n",
    "df = DataFrame(dat, index=pd.date_range(start='10/5/2020', end='10/8/2020'))\n",
    "df"
   ]
  },
  {
   "cell_type": "code",
   "execution_count": 40,
   "metadata": {},
   "outputs": [
    {
     "data": {
      "text/html": [
       "<div>\n",
       "<style scoped>\n",
       "    .dataframe tbody tr th:only-of-type {\n",
       "        vertical-align: middle;\n",
       "    }\n",
       "\n",
       "    .dataframe tbody tr th {\n",
       "        vertical-align: top;\n",
       "    }\n",
       "\n",
       "    .dataframe thead th {\n",
       "        text-align: right;\n",
       "    }\n",
       "</style>\n",
       "<table border=\"1\" class=\"dataframe\">\n",
       "  <thead>\n",
       "    <tr style=\"text-align: right;\">\n",
       "      <th></th>\n",
       "      <th>team</th>\n",
       "      <th>score_d1</th>\n",
       "      <th>score_d2</th>\n",
       "      <th>score_d3</th>\n",
       "      <th>score_d4</th>\n",
       "      <th>score_d5</th>\n",
       "    </tr>\n",
       "  </thead>\n",
       "  <tbody>\n",
       "    <tr>\n",
       "      <th>2019-10-05</th>\n",
       "      <td>A팀</td>\n",
       "      <td>90</td>\n",
       "      <td>70</td>\n",
       "      <td>80</td>\n",
       "      <td>95</td>\n",
       "      <td>99</td>\n",
       "    </tr>\n",
       "    <tr>\n",
       "      <th>2019-10-06</th>\n",
       "      <td>B팀</td>\n",
       "      <td>95</td>\n",
       "      <td>92</td>\n",
       "      <td>90</td>\n",
       "      <td>89</td>\n",
       "      <td>99</td>\n",
       "    </tr>\n",
       "    <tr>\n",
       "      <th>2019-10-07</th>\n",
       "      <td>C팀</td>\n",
       "      <td>80</td>\n",
       "      <td>90</td>\n",
       "      <td>87</td>\n",
       "      <td>85</td>\n",
       "      <td>88</td>\n",
       "    </tr>\n",
       "    <tr>\n",
       "      <th>2019-10-08</th>\n",
       "      <td>D팀</td>\n",
       "      <td>97</td>\n",
       "      <td>89</td>\n",
       "      <td>79</td>\n",
       "      <td>87</td>\n",
       "      <td>94</td>\n",
       "    </tr>\n",
       "  </tbody>\n",
       "</table>\n",
       "</div>"
      ],
      "text/plain": [
       "           team  score_d1  score_d2  score_d3  score_d4  score_d5\n",
       "2019-10-05   A팀        90        70        80        95        99\n",
       "2019-10-06   B팀        95        92        90        89        99\n",
       "2019-10-07   C팀        80        90        87        85        88\n",
       "2019-10-08   D팀        97        89        79        87        94"
      ]
     },
     "execution_count": 40,
     "metadata": {},
     "output_type": "execute_result"
    }
   ],
   "source": [
    "ts_days_idx1 = pd.date_range('2019-10-05', periods=4)\n",
    "\n",
    "team_df1 = DataFrame(dat, index= ts_days_idx1 )\n",
    "team_df1"
   ]
  },
  {
   "cell_type": "code",
   "execution_count": null,
   "metadata": {},
   "outputs": [],
   "source": []
  }
 ],
 "metadata": {
  "kernelspec": {
   "display_name": "Python 3",
   "language": "python",
   "name": "python3"
  },
  "language_info": {
   "codemirror_mode": {
    "name": "ipython",
    "version": 3
   },
   "file_extension": ".py",
   "mimetype": "text/x-python",
   "name": "python",
   "nbconvert_exporter": "python",
   "pygments_lexer": "ipython3",
   "version": "3.8.3"
  }
 },
 "nbformat": 4,
 "nbformat_minor": 4
}
