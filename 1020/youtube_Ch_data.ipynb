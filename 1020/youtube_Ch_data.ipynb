{
 "cells": [
  {
   "cell_type": "markdown",
   "metadata": {},
   "source": [
    "### 유투브 채널데이터 수집\n",
    "* 하나의 채널의 동영상 제목과 조회수와 시간을 확인해보자..."
   ]
  },
  {
   "cell_type": "code",
   "execution_count": 22,
   "metadata": {},
   "outputs": [],
   "source": [
    "from urllib.request import urlopen\n",
    "from bs4 import BeautifulSoup\n",
    "import time\n",
    "import re\n",
    "from selenium import webdriver\n",
    "import pandas as pd"
   ]
  },
  {
   "cell_type": "code",
   "execution_count": 2,
   "metadata": {},
   "outputs": [],
   "source": [
    "url = \"https://www.youtube.com/c/SKtelecom/videos\""
   ]
  },
  {
   "cell_type": "code",
   "execution_count": 3,
   "metadata": {},
   "outputs": [],
   "source": [
    "driver = webdriver.Chrome()\n",
    "driver.get(url)"
   ]
  },
  {
   "cell_type": "code",
   "execution_count": 23,
   "metadata": {},
   "outputs": [
    {
     "data": {
      "text/plain": [
       "<title>SK telecom - YouTube</title>"
      ]
     },
     "execution_count": 23,
     "metadata": {},
     "output_type": "execute_result"
    }
   ],
   "source": [
    "page = driver.page_source\n",
    "soup = BeautifulSoup(page, 'html.parser')\n",
    "soup.title"
   ]
  },
  {
   "cell_type": "code",
   "execution_count": 24,
   "metadata": {},
   "outputs": [
    {
     "data": {
      "text/plain": [
       "'긴급 재난 문자 수신 설정 방법'"
      ]
     },
     "execution_count": 24,
     "metadata": {},
     "output_type": "execute_result"
    }
   ],
   "source": [
    "# 하나의 제목 가져오기\n",
    "soup.find(\"a\", class_=\"yt-simple-endpoint style-scope ytd-grid-video-renderer\").text"
   ]
  },
  {
   "cell_type": "code",
   "execution_count": 25,
   "metadata": {},
   "outputs": [
    {
     "data": {
      "text/plain": [
       "['긴급 재난 문자 수신 설정 방법',\n",
       " '[SK텔레콤 5G] 누구든 보고 어디서든 느낄 수 있도록 ‘창덕ARirang at Home’',\n",
       " '행복을 드리는 SK텔레콤 고객센터 김은혜입니다',\n",
       " '[SKT x 최태성] 언택트 시대 & 4차 산업혁명, 기업의 미래는?',\n",
       " 'T전화 활용하기_T114 업체 정보 등록 방법',\n",
       " '임요환과 G식백과가 푹~ 빠진 이것은 무엇..!? 🎮SKT 5GX 클라우드 게임🎮',\n",
       " '[SKT IMPACTUPS] 스마프',\n",
       " '[SKT IMPACTUPS] 칸필터',\n",
       " '[SK텔레콤] V 컬러링, 김연아의 힐링 편',\n",
       " '[SK텔레콤] V 컬러링, 김연아의 구름이링 편',\n",
       " '[SK텔레콤] V 컬러링, 김연아의 전화위복링 편',\n",
       " '[SK텔레콤] V 컬러링, 김연아의 매너링 편',\n",
       " '[SK텔레콤] V 컬러링, 김연아의 힐링 콘텐츠 편',\n",
       " '♡나와 소중한 사람들을 위해 이번 추석은 여기서 만나요♡ (feat.미더스(MeetUs))',\n",
       " '[SKT IMPACTUPS] 유메인',\n",
       " '[SKT IMPACTUPS] 수퍼빈',\n",
       " '[SKT IMPACTUPS] 에이런',\n",
       " '[SK텔레콤] V 컬러링, 김연아의 매너링 편',\n",
       " '[SK텔레콤] V 컬러링, 김연아의 힐링 편',\n",
       " '[SKT IMPACTUPS] atlab',\n",
       " '[SKT IMPACTUPS] H2K',\n",
       " '[SKT IMPACTUPS] 룩시드랩스',\n",
       " '[Like a Local] Only at SK Telecom!',\n",
       " '[SKT IMPACTUPS] 닥터스팹',\n",
       " '[SKT IMPACTUPS] 리그넘',\n",
       " '[SKT IMPACTUPS] 종합편',\n",
       " '🤳🏻이제 컬러링을 듣는게 아니라 본대..!!! 👀 (Feat.  V컬러링 체험기)',\n",
       " '[SK텔레콤] V 컬러링, 서장훈의 추석링 편',\n",
       " '[SK텔레콤] V 컬러링, 서장훈의 잔소링 편',\n",
       " '[SK텔레콤] V 컬러링, 서장훈의 응원링 편']"
      ]
     },
     "execution_count": 25,
     "metadata": {},
     "output_type": "execute_result"
    }
   ],
   "source": [
    "all_title = soup.find_all(\"a\", class_=\"yt-simple-endpoint style-scope ytd-grid-video-renderer\")\n",
    "\n",
    "title = []\n",
    "for one in all_title:\n",
    "    # print(one.text)\n",
    "    title.append(one.text)\n",
    "title"
   ]
  },
  {
   "cell_type": "code",
   "execution_count": 17,
   "metadata": {},
   "outputs": [
    {
     "data": {
      "text/plain": [
       "['조회수 932회',\n",
       " '6일 전',\n",
       " '조회수 2천회',\n",
       " '6일 전',\n",
       " '조회수 3.3만회',\n",
       " '1주 전',\n",
       " '조회수 4.1만회',\n",
       " '1주 전',\n",
       " '조회수 361회',\n",
       " '2주 전',\n",
       " '조회수 4.5천회',\n",
       " '2주 전',\n",
       " '조회수 395회',\n",
       " '2주 전',\n",
       " '조회수 161회',\n",
       " '2주 전',\n",
       " '조회수 6.9천회',\n",
       " '2주 전',\n",
       " '조회수 7.1천회',\n",
       " '2주 전',\n",
       " '조회수 4.9천회',\n",
       " '2주 전',\n",
       " '조회수 5.9천회',\n",
       " '2주 전',\n",
       " '조회수 8.3천회',\n",
       " '2주 전',\n",
       " '조회수 2만회',\n",
       " '2주 전',\n",
       " '조회수 142회',\n",
       " '3주 전',\n",
       " '조회수 80회',\n",
       " '3주 전',\n",
       " '조회수 146회',\n",
       " '3주 전',\n",
       " '조회수 87만회',\n",
       " '3주 전',\n",
       " '조회수 178만회',\n",
       " '3주 전',\n",
       " '조회수 105회',\n",
       " '3주 전',\n",
       " '조회수 57회',\n",
       " '3주 전',\n",
       " '조회수 64회',\n",
       " '3주 전',\n",
       " '조회수 800회',\n",
       " '3주 전',\n",
       " '조회수 181회',\n",
       " '3주 전',\n",
       " '조회수 106회',\n",
       " '3주 전',\n",
       " '조회수 148회',\n",
       " '3주 전',\n",
       " '조회수 3.8만회',\n",
       " '3주 전',\n",
       " '조회수 17만회',\n",
       " '3주 전',\n",
       " '조회수 17만회',\n",
       " '3주 전',\n",
       " '조회수 18만회',\n",
       " '3주 전']"
      ]
     },
     "execution_count": 17,
     "metadata": {},
     "output_type": "execute_result"
    }
   ],
   "source": [
    "all_title = soup.find_all(\"span\", class_=\"style-scope ytd-grid-video-renderer\")\n",
    "\n",
    "title = []\n",
    "for one in all_title:\n",
    "    # print(one.text)\n",
    "    title.append(one.text)\n",
    "title"
   ]
  },
  {
   "cell_type": "code",
   "execution_count": 26,
   "metadata": {},
   "outputs": [],
   "source": [
    "all_temp = soup.find_all(\"span\", class_=\"style-scope ytd-grid-video-renderer\")\n",
    "\n",
    "# title = []\n",
    "\n",
    "video_cnt = []\n",
    "time_all = []\n",
    "for idx, one in enumerate(all_temp):     # enumerate : \n",
    "    if idx%2==0:  # 짝수때의 값(조회수)\n",
    "        video_cnt.append(one.text)\n",
    "    else:        # 홀수때의 값 (시간)\n",
    "        time_all.append(one.text)"
   ]
  },
  {
   "cell_type": "code",
   "execution_count": 27,
   "metadata": {},
   "outputs": [
    {
     "data": {
      "text/plain": [
       "['조회수 932회',\n",
       " '조회수 2천회',\n",
       " '조회수 3.3만회',\n",
       " '조회수 4.1만회',\n",
       " '조회수 361회',\n",
       " '조회수 4.5천회',\n",
       " '조회수 395회',\n",
       " '조회수 161회',\n",
       " '조회수 6.9천회',\n",
       " '조회수 7.1천회',\n",
       " '조회수 4.9천회',\n",
       " '조회수 5.9천회',\n",
       " '조회수 8.3천회',\n",
       " '조회수 2만회',\n",
       " '조회수 142회',\n",
       " '조회수 80회',\n",
       " '조회수 146회',\n",
       " '조회수 87만회',\n",
       " '조회수 178만회',\n",
       " '조회수 105회',\n",
       " '조회수 57회',\n",
       " '조회수 64회',\n",
       " '조회수 800회',\n",
       " '조회수 181회',\n",
       " '조회수 106회',\n",
       " '조회수 148회',\n",
       " '조회수 3.8만회',\n",
       " '조회수 17만회',\n",
       " '조회수 17만회',\n",
       " '조회수 18만회']"
      ]
     },
     "execution_count": 27,
     "metadata": {},
     "output_type": "execute_result"
    }
   ],
   "source": [
    "video_cnt"
   ]
  },
  {
   "cell_type": "code",
   "execution_count": 28,
   "metadata": {},
   "outputs": [
    {
     "name": "stdout",
     "output_type": "stream",
     "text": [
      "30 30 30\n"
     ]
    }
   ],
   "source": [
    "print(len(title), len(video_cnt), len(time_all))"
   ]
  },
  {
   "cell_type": "code",
   "execution_count": 33,
   "metadata": {},
   "outputs": [
    {
     "data": {
      "text/html": [
       "<div>\n",
       "<style scoped>\n",
       "    .dataframe tbody tr th:only-of-type {\n",
       "        vertical-align: middle;\n",
       "    }\n",
       "\n",
       "    .dataframe tbody tr th {\n",
       "        vertical-align: top;\n",
       "    }\n",
       "\n",
       "    .dataframe thead th {\n",
       "        text-align: right;\n",
       "    }\n",
       "</style>\n",
       "<table border=\"1\" class=\"dataframe\">\n",
       "  <thead>\n",
       "    <tr style=\"text-align: right;\">\n",
       "      <th></th>\n",
       "      <th>영화제목</th>\n",
       "      <th>조회수</th>\n",
       "      <th>시간</th>\n",
       "    </tr>\n",
       "  </thead>\n",
       "  <tbody>\n",
       "    <tr>\n",
       "      <th>0</th>\n",
       "      <td>긴급 재난 문자 수신 설정 방법</td>\n",
       "      <td>조회수 932회</td>\n",
       "      <td>6일 전</td>\n",
       "    </tr>\n",
       "    <tr>\n",
       "      <th>1</th>\n",
       "      <td>[SK텔레콤 5G] 누구든 보고 어디서든 느낄 수 있도록 ‘창덕ARirang at ...</td>\n",
       "      <td>조회수 2천회</td>\n",
       "      <td>6일 전</td>\n",
       "    </tr>\n",
       "    <tr>\n",
       "      <th>2</th>\n",
       "      <td>행복을 드리는 SK텔레콤 고객센터 김은혜입니다</td>\n",
       "      <td>조회수 3.3만회</td>\n",
       "      <td>1주 전</td>\n",
       "    </tr>\n",
       "    <tr>\n",
       "      <th>3</th>\n",
       "      <td>[SKT x 최태성] 언택트 시대 &amp; 4차 산업혁명, 기업의 미래는?</td>\n",
       "      <td>조회수 4.1만회</td>\n",
       "      <td>1주 전</td>\n",
       "    </tr>\n",
       "    <tr>\n",
       "      <th>4</th>\n",
       "      <td>T전화 활용하기_T114 업체 정보 등록 방법</td>\n",
       "      <td>조회수 361회</td>\n",
       "      <td>2주 전</td>\n",
       "    </tr>\n",
       "    <tr>\n",
       "      <th>5</th>\n",
       "      <td>임요환과 G식백과가 푹~ 빠진 이것은 무엇..!? 🎮SKT 5GX 클라우드 게임🎮</td>\n",
       "      <td>조회수 4.5천회</td>\n",
       "      <td>2주 전</td>\n",
       "    </tr>\n",
       "    <tr>\n",
       "      <th>6</th>\n",
       "      <td>[SKT IMPACTUPS] 스마프</td>\n",
       "      <td>조회수 395회</td>\n",
       "      <td>2주 전</td>\n",
       "    </tr>\n",
       "    <tr>\n",
       "      <th>7</th>\n",
       "      <td>[SKT IMPACTUPS] 칸필터</td>\n",
       "      <td>조회수 161회</td>\n",
       "      <td>2주 전</td>\n",
       "    </tr>\n",
       "    <tr>\n",
       "      <th>8</th>\n",
       "      <td>[SK텔레콤] V 컬러링, 김연아의 힐링 편</td>\n",
       "      <td>조회수 6.9천회</td>\n",
       "      <td>2주 전</td>\n",
       "    </tr>\n",
       "    <tr>\n",
       "      <th>9</th>\n",
       "      <td>[SK텔레콤] V 컬러링, 김연아의 구름이링 편</td>\n",
       "      <td>조회수 7.1천회</td>\n",
       "      <td>2주 전</td>\n",
       "    </tr>\n",
       "    <tr>\n",
       "      <th>10</th>\n",
       "      <td>[SK텔레콤] V 컬러링, 김연아의 전화위복링 편</td>\n",
       "      <td>조회수 4.9천회</td>\n",
       "      <td>2주 전</td>\n",
       "    </tr>\n",
       "    <tr>\n",
       "      <th>11</th>\n",
       "      <td>[SK텔레콤] V 컬러링, 김연아의 매너링 편</td>\n",
       "      <td>조회수 5.9천회</td>\n",
       "      <td>2주 전</td>\n",
       "    </tr>\n",
       "    <tr>\n",
       "      <th>12</th>\n",
       "      <td>[SK텔레콤] V 컬러링, 김연아의 힐링 콘텐츠 편</td>\n",
       "      <td>조회수 8.3천회</td>\n",
       "      <td>2주 전</td>\n",
       "    </tr>\n",
       "    <tr>\n",
       "      <th>13</th>\n",
       "      <td>♡나와 소중한 사람들을 위해 이번 추석은 여기서 만나요♡ (feat.미더스(Meet...</td>\n",
       "      <td>조회수 2만회</td>\n",
       "      <td>2주 전</td>\n",
       "    </tr>\n",
       "    <tr>\n",
       "      <th>14</th>\n",
       "      <td>[SKT IMPACTUPS] 유메인</td>\n",
       "      <td>조회수 142회</td>\n",
       "      <td>3주 전</td>\n",
       "    </tr>\n",
       "    <tr>\n",
       "      <th>15</th>\n",
       "      <td>[SKT IMPACTUPS] 수퍼빈</td>\n",
       "      <td>조회수 80회</td>\n",
       "      <td>3주 전</td>\n",
       "    </tr>\n",
       "    <tr>\n",
       "      <th>16</th>\n",
       "      <td>[SKT IMPACTUPS] 에이런</td>\n",
       "      <td>조회수 146회</td>\n",
       "      <td>3주 전</td>\n",
       "    </tr>\n",
       "    <tr>\n",
       "      <th>17</th>\n",
       "      <td>[SK텔레콤] V 컬러링, 김연아의 매너링 편</td>\n",
       "      <td>조회수 87만회</td>\n",
       "      <td>3주 전</td>\n",
       "    </tr>\n",
       "    <tr>\n",
       "      <th>18</th>\n",
       "      <td>[SK텔레콤] V 컬러링, 김연아의 힐링 편</td>\n",
       "      <td>조회수 178만회</td>\n",
       "      <td>3주 전</td>\n",
       "    </tr>\n",
       "    <tr>\n",
       "      <th>19</th>\n",
       "      <td>[SKT IMPACTUPS] atlab</td>\n",
       "      <td>조회수 105회</td>\n",
       "      <td>3주 전</td>\n",
       "    </tr>\n",
       "    <tr>\n",
       "      <th>20</th>\n",
       "      <td>[SKT IMPACTUPS] H2K</td>\n",
       "      <td>조회수 57회</td>\n",
       "      <td>3주 전</td>\n",
       "    </tr>\n",
       "    <tr>\n",
       "      <th>21</th>\n",
       "      <td>[SKT IMPACTUPS] 룩시드랩스</td>\n",
       "      <td>조회수 64회</td>\n",
       "      <td>3주 전</td>\n",
       "    </tr>\n",
       "    <tr>\n",
       "      <th>22</th>\n",
       "      <td>[Like a Local] Only at SK Telecom!</td>\n",
       "      <td>조회수 800회</td>\n",
       "      <td>3주 전</td>\n",
       "    </tr>\n",
       "    <tr>\n",
       "      <th>23</th>\n",
       "      <td>[SKT IMPACTUPS] 닥터스팹</td>\n",
       "      <td>조회수 181회</td>\n",
       "      <td>3주 전</td>\n",
       "    </tr>\n",
       "    <tr>\n",
       "      <th>24</th>\n",
       "      <td>[SKT IMPACTUPS] 리그넘</td>\n",
       "      <td>조회수 106회</td>\n",
       "      <td>3주 전</td>\n",
       "    </tr>\n",
       "    <tr>\n",
       "      <th>25</th>\n",
       "      <td>[SKT IMPACTUPS] 종합편</td>\n",
       "      <td>조회수 148회</td>\n",
       "      <td>3주 전</td>\n",
       "    </tr>\n",
       "    <tr>\n",
       "      <th>26</th>\n",
       "      <td>🤳🏻이제 컬러링을 듣는게 아니라 본대..!!! 👀 (Feat.  V컬러링 체험기)</td>\n",
       "      <td>조회수 3.8만회</td>\n",
       "      <td>3주 전</td>\n",
       "    </tr>\n",
       "    <tr>\n",
       "      <th>27</th>\n",
       "      <td>[SK텔레콤] V 컬러링, 서장훈의 추석링 편</td>\n",
       "      <td>조회수 17만회</td>\n",
       "      <td>3주 전</td>\n",
       "    </tr>\n",
       "    <tr>\n",
       "      <th>28</th>\n",
       "      <td>[SK텔레콤] V 컬러링, 서장훈의 잔소링 편</td>\n",
       "      <td>조회수 17만회</td>\n",
       "      <td>3주 전</td>\n",
       "    </tr>\n",
       "    <tr>\n",
       "      <th>29</th>\n",
       "      <td>[SK텔레콤] V 컬러링, 서장훈의 응원링 편</td>\n",
       "      <td>조회수 18만회</td>\n",
       "      <td>3주 전</td>\n",
       "    </tr>\n",
       "  </tbody>\n",
       "</table>\n",
       "</div>"
      ],
      "text/plain": [
       "                                                 영화제목        조회수    시간\n",
       "0                                   긴급 재난 문자 수신 설정 방법   조회수 932회  6일 전\n",
       "1   [SK텔레콤 5G] 누구든 보고 어디서든 느낄 수 있도록 ‘창덕ARirang at ...    조회수 2천회  6일 전\n",
       "2                           행복을 드리는 SK텔레콤 고객센터 김은혜입니다  조회수 3.3만회  1주 전\n",
       "3              [SKT x 최태성] 언택트 시대 & 4차 산업혁명, 기업의 미래는?  조회수 4.1만회  1주 전\n",
       "4                           T전화 활용하기_T114 업체 정보 등록 방법   조회수 361회  2주 전\n",
       "5       임요환과 G식백과가 푹~ 빠진 이것은 무엇..!? 🎮SKT 5GX 클라우드 게임🎮  조회수 4.5천회  2주 전\n",
       "6                                 [SKT IMPACTUPS] 스마프   조회수 395회  2주 전\n",
       "7                                 [SKT IMPACTUPS] 칸필터   조회수 161회  2주 전\n",
       "8                            [SK텔레콤] V 컬러링, 김연아의 힐링 편  조회수 6.9천회  2주 전\n",
       "9                          [SK텔레콤] V 컬러링, 김연아의 구름이링 편  조회수 7.1천회  2주 전\n",
       "10                        [SK텔레콤] V 컬러링, 김연아의 전화위복링 편  조회수 4.9천회  2주 전\n",
       "11                          [SK텔레콤] V 컬러링, 김연아의 매너링 편  조회수 5.9천회  2주 전\n",
       "12                       [SK텔레콤] V 컬러링, 김연아의 힐링 콘텐츠 편  조회수 8.3천회  2주 전\n",
       "13  ♡나와 소중한 사람들을 위해 이번 추석은 여기서 만나요♡ (feat.미더스(Meet...    조회수 2만회  2주 전\n",
       "14                                [SKT IMPACTUPS] 유메인   조회수 142회  3주 전\n",
       "15                                [SKT IMPACTUPS] 수퍼빈    조회수 80회  3주 전\n",
       "16                                [SKT IMPACTUPS] 에이런   조회수 146회  3주 전\n",
       "17                          [SK텔레콤] V 컬러링, 김연아의 매너링 편   조회수 87만회  3주 전\n",
       "18                           [SK텔레콤] V 컬러링, 김연아의 힐링 편  조회수 178만회  3주 전\n",
       "19                              [SKT IMPACTUPS] atlab   조회수 105회  3주 전\n",
       "20                                [SKT IMPACTUPS] H2K    조회수 57회  3주 전\n",
       "21                              [SKT IMPACTUPS] 룩시드랩스    조회수 64회  3주 전\n",
       "22                 [Like a Local] Only at SK Telecom!   조회수 800회  3주 전\n",
       "23                               [SKT IMPACTUPS] 닥터스팹   조회수 181회  3주 전\n",
       "24                                [SKT IMPACTUPS] 리그넘   조회수 106회  3주 전\n",
       "25                                [SKT IMPACTUPS] 종합편   조회수 148회  3주 전\n",
       "26      🤳🏻이제 컬러링을 듣는게 아니라 본대..!!! 👀 (Feat.  V컬러링 체험기)  조회수 3.8만회  3주 전\n",
       "27                          [SK텔레콤] V 컬러링, 서장훈의 추석링 편   조회수 17만회  3주 전\n",
       "28                          [SK텔레콤] V 컬러링, 서장훈의 잔소링 편   조회수 17만회  3주 전\n",
       "29                          [SK텔레콤] V 컬러링, 서장훈의 응원링 편   조회수 18만회  3주 전"
      ]
     },
     "execution_count": 33,
     "metadata": {},
     "output_type": "execute_result"
    }
   ],
   "source": [
    "import pandas as pd\n",
    "\n",
    "dat = {\"영화제목\":title, \"조회수\":video_cnt, \"시간\":time_all}\n",
    "all_data = pd.DataFrame(dat)\n",
    "all_data                        "
   ]
  },
  {
   "cell_type": "markdown",
   "metadata": {},
   "source": [
    "### 링크가져오기"
   ]
  },
  {
   "cell_type": "code",
   "execution_count": 38,
   "metadata": {},
   "outputs": [
    {
     "data": {
      "text/plain": [
       "<img alt=\"\" class=\"style-scope yt-img-shadow\" height=\"24\" id=\"img\" src=\"https://yt3.ggpht.com/mDWN9o8E-UBz3g2aBKB-DJaIHqm_XeB5YRrt51Nj-qEDPe3-QzekbKX3o0T9mt_aqC8ByVrW9g=s88-c-k-c0x00ffffff-no-rj\" width=\"24\"/>"
      ]
     },
     "execution_count": 38,
     "metadata": {},
     "output_type": "execute_result"
    }
   ],
   "source": [
    "link_one = soup.find(\"img\", class_=\"style-scope yt-img-shadow\")\n",
    "link_one"
   ]
  },
  {
   "cell_type": "code",
   "execution_count": 43,
   "metadata": {},
   "outputs": [
    {
     "name": "stdout",
     "output_type": "stream",
     "text": [
      "<img alt=\"\" class=\"style-scope yt-img-shadow\" height=\"24\" id=\"img\" src=\"https://yt3.ggpht.com/mDWN9o8E-UBz3g2aBKB-DJaIHqm_XeB5YRrt51Nj-qEDPe3-QzekbKX3o0T9mt_aqC8ByVrW9g=s88-c-k-c0x00ffffff-no-rj\" width=\"24\"/>\n",
      "<img alt=\"\" class=\"style-scope yt-img-shadow\" height=\"24\" id=\"img\" src=\"https://yt3.ggpht.com/EAXpMTHgYtJWosknjRhJL7yNMojgyB4f9wFEcOC1Lb3yMAGsWMvm0JX0t-kvIzGBG8rXLg1n=s88-c-k-c0x00ffffff-no-rj\" width=\"24\"/>\n",
      "<img alt=\"\" class=\"style-scope yt-img-shadow\" height=\"24\" id=\"img\" src=\"https://yt3.ggpht.com/wKbaw_uKUA1BUsKI6DY6-106t36N0fIOV4F7ferJ0C0YSbCe6aLlkLfNNTYqn1BNE23L861g=s88-c-k-c0x00ffffff-no-rj\" width=\"24\"/>\n",
      "<img alt=\"\" class=\"style-scope yt-img-shadow\" height=\"24\" id=\"img\" src=\"https://yt3.ggpht.com/6lo97rUTO7xhIBXZqLiaW2kA_eMBIEmqc27EqlKLyE4nAY-yzcKBG0Hs0YdUka3gJ629HcwgyzQ=s88-c-k-c0x00ffffff-no-rj\" width=\"24\"/>\n",
      "<img alt=\"\" class=\"style-scope yt-img-shadow\" height=\"24\" id=\"img\" src=\"https://yt3.ggpht.com/RMsRDfy7X7f7Wo3aZEofaZXAqMiyIi8UUZe188kwJ9DJTg8aEWDrqlVW8ktFyKhy9kUmgIR90So=s88-c-k-c0x00ffffff-no-rj\" width=\"24\"/>\n",
      "<img alt=\"\" class=\"style-scope yt-img-shadow\" height=\"24\" id=\"img\" src=\"https://yt3.ggpht.com/8D6JlsnvwDZFMdcbjqVji82kggP3aXXbO-yBD0RFrKlp4G1zNt9wcqcVTSPnAI8GuUAbDYQwsg=s88-c-k-c0x00ffffff-no-rj\" width=\"24\"/>\n",
      "<img alt=\"\" class=\"style-scope yt-img-shadow\" height=\"24\" id=\"img\" src=\"https://yt3.ggpht.com/-bsf7Ce2CskDkBn3TiVTwoCMk3oEsN_6oom_OpQhG6nOeo3WSOlP74DHNigpx7v8bojuIFUwEA=s88-c-k-c0x00ffffff-no-rj\" width=\"24\"/>\n",
      "<img alt=\"\" class=\"style-scope yt-img-shadow\" height=\"24\" id=\"img\" src=\"https://yt3.ggpht.com/2oWUTLaYzJApOWUgDLfeXFLfR0gxze2Wl2Vs7mtyV37DSuBoNuJ7rfGE4iEGj3ZjfyQ6FdR1=s88-c-k-c0x00ffffff-no-rj\" width=\"24\"/>\n",
      "<img alt=\"\" class=\"style-scope yt-img-shadow\" id=\"img\" src=\"https://yt3.ggpht.com/a/AATXAJwAg3k52SWPwXP5HFQurMjU_4svcBaeCz3sCFE5Gxg=s176-c-k-c0x00ffffff-no-rj\" width=\"80\"/>\n",
      "<img alt=\"\" class=\"style-scope yt-img-shadow\" height=\"16\" id=\"img\" src=\"//s2.googleusercontent.com/s2/favicons?domain_url=https%3A%2F%2Fwww.facebook.com%2F&amp;feature=youtube_channel\" width=\"16\"/>\n",
      "<img alt=\"\" class=\"style-scope yt-img-shadow\" height=\"16\" id=\"img\" src=\"//s2.googleusercontent.com/s2/favicons?domain_url=https%3A%2F%2Ftwitter.com%2F&amp;feature=youtube_channel\" width=\"16\"/>\n",
      "<img alt=\"\" class=\"style-scope yt-img-shadow\" height=\"16\" id=\"img\" src=\"//s2.googleusercontent.com/s2/favicons?domain_url=https%3A%2F%2Fwww.instagram.com%2F&amp;feature=youtube_channel\" width=\"16\"/>\n",
      "<img alt=\"\" class=\"style-scope yt-img-shadow\" height=\"16\" id=\"img\" src=\"//s2.googleusercontent.com/s2/favicons?domain_url=https%3A%2F%2Fwww.sktinsight.com%2F&amp;feature=youtube_channel\" width=\"16\"/>\n",
      "<img alt=\"\" class=\"style-scope yt-img-shadow\" height=\"16\" id=\"img\" src=\"//s2.googleusercontent.com/s2/favicons?domain_url=https%3A%2F%2Fwww.linkedin.com%2F&amp;feature=youtube_channel\" width=\"16\"/>\n",
      "<img alt=\"\" class=\"style-scope yt-img-shadow\" id=\"img\" src=\"https://i.ytimg.com/vi/6yjCu6EHyGY/hqdefault.jpg?sqp=-oaymwEZCNACELwBSFXyq4qpAwsIARUAAIhCGAFwAQ==&amp;rs=AOn4CLAecEOQBdPbjZbQkoQr7LDbBYtVzQ\" width=\"210\"/>\n",
      "<img alt=\"\" class=\"style-scope yt-img-shadow\" id=\"img\" src=\"https://i.ytimg.com/vi/pg8U8cgRrvM/hqdefault.jpg?sqp=-oaymwEZCNACELwBSFXyq4qpAwsIARUAAIhCGAFwAQ==&amp;rs=AOn4CLCLC6vnH-kz8jK7i8vWoLXhMm62wA\" width=\"210\"/>\n",
      "<img alt=\"\" class=\"style-scope yt-img-shadow\" id=\"img\" src=\"https://i.ytimg.com/vi/3V3Rc7ZSBtc/hqdefault.jpg?sqp=-oaymwEZCNACELwBSFXyq4qpAwsIARUAAIhCGAFwAQ==&amp;rs=AOn4CLC5iUVELjiVGwCw2GMCcaJb1GWvDA\" width=\"210\"/>\n",
      "<img alt=\"\" class=\"style-scope yt-img-shadow\" id=\"img\" src=\"https://i.ytimg.com/vi/13ItZE5DP8w/hqdefault.jpg?sqp=-oaymwEZCNACELwBSFXyq4qpAwsIARUAAIhCGAFwAQ==&amp;rs=AOn4CLB-YUv3jr3ct3TfiCaJxY40z1fATg\" width=\"210\"/>\n",
      "<img alt=\"\" class=\"style-scope yt-img-shadow\" id=\"img\" src=\"https://i.ytimg.com/vi/O4xhNM78N24/hqdefault.jpg?sqp=-oaymwEZCNACELwBSFXyq4qpAwsIARUAAIhCGAFwAQ==&amp;rs=AOn4CLAeupBRp6WJeDzfUYVPmQyot2uy-w\" width=\"210\"/>\n",
      "<img alt=\"\" class=\"style-scope yt-img-shadow\" id=\"img\" src=\"https://i.ytimg.com/vi/pd5PIj631iU/hqdefault.jpg?sqp=-oaymwEZCNACELwBSFXyq4qpAwsIARUAAIhCGAFwAQ==&amp;rs=AOn4CLA3zYUYph8QbnRCoVDVGHpJiD1P6w\" width=\"210\"/>\n",
      "<img alt=\"\" class=\"style-scope yt-img-shadow\" id=\"img\" src=\"https://i.ytimg.com/vi/zZ6YtpfHHOI/hqdefault.jpg?sqp=-oaymwEZCNACELwBSFXyq4qpAwsIARUAAIhCGAFwAQ==&amp;rs=AOn4CLAV837tbhq-v8TdseI_tKNFRkDNfw\" width=\"210\"/>\n",
      "<img alt=\"\" class=\"style-scope yt-img-shadow\" id=\"img\" src=\"https://i.ytimg.com/vi/O_LEBsZTypk/hqdefault.jpg?sqp=-oaymwEZCNACELwBSFXyq4qpAwsIARUAAIhCGAFwAQ==&amp;rs=AOn4CLDvUIxnumXvMXhxoDYKtsE2kMTgUw\" width=\"210\"/>\n",
      "<img alt=\"\" class=\"style-scope yt-img-shadow\" id=\"img\" src=\"https://i.ytimg.com/vi/p4Oo_efyETY/hqdefault.jpg?sqp=-oaymwEZCNACELwBSFXyq4qpAwsIARUAAIhCGAFwAQ==&amp;rs=AOn4CLBJJc627AWJ5knb210kcvbwFEjIHA\" width=\"210\"/>\n",
      "<img alt=\"\" class=\"style-scope yt-img-shadow\" id=\"img\" src=\"https://i.ytimg.com/vi/fW34q6eGMEc/hqdefault.jpg?sqp=-oaymwEZCNACELwBSFXyq4qpAwsIARUAAIhCGAFwAQ==&amp;rs=AOn4CLD5FEhD3KR26eFz6pf70MDzItYQkw\" width=\"210\"/>\n",
      "<img alt=\"\" class=\"style-scope yt-img-shadow\" id=\"img\" src=\"https://i.ytimg.com/vi/hfnEAT9RE_8/hqdefault.jpg?sqp=-oaymwEZCNACELwBSFXyq4qpAwsIARUAAIhCGAFwAQ==&amp;rs=AOn4CLAGpGjcQ22CMqnQcjg_33R1VOHotQ\" width=\"210\"/>\n",
      "<img alt=\"\" class=\"style-scope yt-img-shadow\" id=\"img\" src=\"https://i.ytimg.com/vi/ejwoUlYljyg/hqdefault.jpg?sqp=-oaymwEZCNACELwBSFXyq4qpAwsIARUAAIhCGAFwAQ==&amp;rs=AOn4CLBRKTqyc4LC_su5F3oTdo6J1DTm5A\" width=\"210\"/>\n",
      "<img alt=\"\" class=\"style-scope yt-img-shadow\" id=\"img\" src=\"https://i.ytimg.com/vi/7jD_1X8DNdM/hqdefault.jpg?sqp=-oaymwEZCNACELwBSFXyq4qpAwsIARUAAIhCGAFwAQ==&amp;rs=AOn4CLDyIzaAyJZwNZrmVHnO8HmJiArr-g\" width=\"210\"/>\n",
      "<img alt=\"\" class=\"style-scope yt-img-shadow\" id=\"img\" src=\"https://i.ytimg.com/vi/H59g84MwXpY/hqdefault.jpg?sqp=-oaymwEZCNACELwBSFXyq4qpAwsIARUAAIhCGAFwAQ==&amp;rs=AOn4CLB3_tUBUz21YH3UYqnrbGTs9THrIA\" width=\"210\"/>\n",
      "<img alt=\"\" class=\"style-scope yt-img-shadow\" id=\"img\" src=\"https://i.ytimg.com/vi/wR90tSBMOJ4/hqdefault.jpg?sqp=-oaymwEZCNACELwBSFXyq4qpAwsIARUAAIhCGAFwAQ==&amp;rs=AOn4CLBtSagsXoi9g_T_6HR8oiE-2M5zaQ\" width=\"210\"/>\n",
      "<img alt=\"\" class=\"style-scope yt-img-shadow\" id=\"img\" src=\"https://i.ytimg.com/vi/tSbnnnEAvWw/hqdefault.jpg?sqp=-oaymwEZCNACELwBSFXyq4qpAwsIARUAAIhCGAFwAQ==&amp;rs=AOn4CLAPilvC2HfCtl7w-BkylwN2no9EDw\" width=\"210\"/>\n",
      "<img alt=\"\" class=\"style-scope yt-img-shadow\" id=\"img\" src=\"https://i.ytimg.com/vi/RgnKDEBEtLE/hqdefault.jpg?sqp=-oaymwEZCNACELwBSFXyq4qpAwsIARUAAIhCGAFwAQ==&amp;rs=AOn4CLC5mL6gesUSoMzxXOhvbD6dSCHCVQ\" width=\"210\"/>\n",
      "<img alt=\"\" class=\"style-scope yt-img-shadow\" id=\"img\" src=\"https://i.ytimg.com/vi/6kSI8WAAuuQ/hqdefault.jpg?sqp=-oaymwEZCNACELwBSFXyq4qpAwsIARUAAIhCGAFwAQ==&amp;rs=AOn4CLDrM3Was464hCB9bsGZqPve9Q-r7w\" width=\"210\"/>\n",
      "<img alt=\"\" class=\"style-scope yt-img-shadow\" id=\"img\" src=\"https://i.ytimg.com/vi/Z9nzBnPPg9A/hqdefault.jpg?sqp=-oaymwEZCNACELwBSFXyq4qpAwsIARUAAIhCGAFwAQ==&amp;rs=AOn4CLDBKG_Ys6JN3VzurKGAVab9mUdXEQ\" width=\"210\"/>\n",
      "<img alt=\"\" class=\"style-scope yt-img-shadow\" id=\"img\" src=\"https://i.ytimg.com/vi/M97Al-uO7uE/hqdefault.jpg?sqp=-oaymwEZCNACELwBSFXyq4qpAwsIARUAAIhCGAFwAQ==&amp;rs=AOn4CLBR073SK_ZYuOb977u0GdAgW0Llsg\" width=\"210\"/>\n",
      "<img alt=\"\" class=\"style-scope yt-img-shadow\" id=\"img\" src=\"https://i.ytimg.com/vi/j4ivLgOuBcQ/hqdefault.jpg?sqp=-oaymwEZCNACELwBSFXyq4qpAwsIARUAAIhCGAFwAQ==&amp;rs=AOn4CLAzjS7YciqNSQhdGF0BjNwhItperw\" width=\"210\"/>\n",
      "<img alt=\"\" class=\"style-scope yt-img-shadow\" id=\"img\" src=\"https://i.ytimg.com/vi/lfxiiiKZobA/hqdefault.jpg?sqp=-oaymwEZCNACELwBSFXyq4qpAwsIARUAAIhCGAFwAQ==&amp;rs=AOn4CLBCsgy-BavSnKM4eY4IzMI3oaoKfg\" width=\"210\"/>\n",
      "<img alt=\"\" class=\"style-scope yt-img-shadow\" id=\"img\" src=\"https://i.ytimg.com/vi/KLvdZnF2FZI/hqdefault.jpg?sqp=-oaymwEZCNACELwBSFXyq4qpAwsIARUAAIhCGAFwAQ==&amp;rs=AOn4CLBzOaVytnrkKPgFnY4DJT8o6Q-v7Q\" width=\"210\"/>\n",
      "<img alt=\"\" class=\"style-scope yt-img-shadow\" id=\"img\" src=\"https://i.ytimg.com/vi/vlxZO1mdXaI/hqdefault.jpg?sqp=-oaymwEZCNACELwBSFXyq4qpAwsIARUAAIhCGAFwAQ==&amp;rs=AOn4CLCoJ_rhxih8sT4s2VWNVhNc6Yjwgg\" width=\"210\"/>\n",
      "<img alt=\"\" class=\"style-scope yt-img-shadow\" id=\"img\" src=\"https://i.ytimg.com/vi/py8CzLbUw3k/hqdefault.jpg?sqp=-oaymwEZCNACELwBSFXyq4qpAwsIARUAAIhCGAFwAQ==&amp;rs=AOn4CLCTNHGJa_qFhdwnq5lnBeb7PCnW3Q\" width=\"210\"/>\n",
      "<img alt=\"\" class=\"style-scope yt-img-shadow\" id=\"img\" src=\"https://i.ytimg.com/vi/auA4vmwootE/hqdefault.jpg?sqp=-oaymwEZCNACELwBSFXyq4qpAwsIARUAAIhCGAFwAQ==&amp;rs=AOn4CLAAIM9mzGIzLn-rsateLvd4c2AjIw\" width=\"210\"/>\n",
      "<img alt=\"\" class=\"style-scope yt-img-shadow\" id=\"img\" src=\"https://i.ytimg.com/vi/Kfv08Lv1Wws/hqdefault.jpg?sqp=-oaymwEZCNACELwBSFXyq4qpAwsIARUAAIhCGAFwAQ==&amp;rs=AOn4CLDpV_IKAjfBUANqRQMN5I83UKYVnQ\" width=\"210\"/>\n",
      "<img alt=\"\" class=\"style-scope yt-img-shadow\" id=\"img\" src=\"https://i.ytimg.com/vi/BJH3wSlTj5g/hqdefault.jpg?sqp=-oaymwEZCNACELwBSFXyq4qpAwsIARUAAIhCGAFwAQ==&amp;rs=AOn4CLC7gmQGa5Xtl-Bg8sMzLR1QTvCptg\" width=\"210\"/>\n",
      "<img alt=\"\" class=\"style-scope yt-img-shadow\" id=\"img\" src=\"https://i.ytimg.com/vi/JyKE_ZcFLz0/hqdefault.jpg?sqp=-oaymwEZCNACELwBSFXyq4qpAwsIARUAAIhCGAFwAQ==&amp;rs=AOn4CLDlmn7-yxe8OMjCTz6kLCh8vEUVWw\" width=\"210\"/>\n",
      "<img alt=\"\" class=\"style-scope yt-img-shadow\" id=\"img\" src=\"https://i.ytimg.com/vi/rUwcaZ5GdcE/hqdefault.jpg?sqp=-oaymwEZCNACELwBSFXyq4qpAwsIARUAAIhCGAFwAQ==&amp;rs=AOn4CLBn654IW13tJ5QufIeEyWOQDssnNg\" width=\"210\"/>\n",
      "<img alt=\"\" class=\"style-scope yt-img-shadow\" id=\"img\" width=\"48\"/>\n",
      "<img alt=\"\" class=\"style-scope yt-img-shadow\" id=\"img\" width=\"78\"/>\n"
     ]
    }
   ],
   "source": [
    "link_all = []\n",
    "link_temp = soup.find_all(\"img\", class_=\"style-scope yt-img-shadow\")\n",
    "\n",
    "for one in link_temp:\n",
    "    print(one)"
   ]
  },
  {
   "cell_type": "code",
   "execution_count": null,
   "metadata": {},
   "outputs": [],
   "source": []
  },
  {
   "cell_type": "code",
   "execution_count": null,
   "metadata": {},
   "outputs": [],
   "source": []
  },
  {
   "cell_type": "code",
   "execution_count": 35,
   "metadata": {},
   "outputs": [],
   "source": [
    "### 파일로 만들기\n",
    "\n",
    "all_data.to_excel(\"sk_youtube.xlsx\", index=False)"
   ]
  },
  {
   "cell_type": "code",
   "execution_count": null,
   "metadata": {},
   "outputs": [],
   "source": []
  }
 ],
 "metadata": {
  "kernelspec": {
   "display_name": "Python 3",
   "language": "python",
   "name": "python3"
  },
  "language_info": {
   "codemirror_mode": {
    "name": "ipython",
    "version": 3
   },
   "file_extension": ".py",
   "mimetype": "text/x-python",
   "name": "python",
   "nbconvert_exporter": "python",
   "pygments_lexer": "ipython3",
   "version": "3.8.3"
  }
 },
 "nbformat": 4,
 "nbformat_minor": 4
}
